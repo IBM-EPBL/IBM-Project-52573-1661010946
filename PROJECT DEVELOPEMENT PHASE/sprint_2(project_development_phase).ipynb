{
  "nbformat": 4,
  "nbformat_minor": 0,
  "metadata": {
    "colab": {
      "provenance": [],
      "collapsed_sections": []
    },
    "kernelspec": {
      "name": "python3",
      "display_name": "Python 3"
    },
    "language_info": {
      "name": "python"
    }
  },
  "cells": [
    {
      "cell_type": "code",
      "execution_count": null,
      "metadata": {
        "id": "WcnfrqYsDAOf"
      },
      "outputs": [],
      "source": [
        "import keras\n",
        "from keras.preprocessing.image import ImageDataGenerator"
      ]
    },
    {
      "cell_type": "code",
      "source": [
        "#Define the parameters/arguments for ImageDataGenerator class\n",
        "train_datagen=ImageDataGenerator(rescale=1./255,shear_range=0.2,rotation_range=180,zoom_range=0.2,horizontal_flip=True)\n",
        "\n",
        "test_datagen=ImageDataGenerator(rescale=1./255)"
      ],
      "metadata": {
        "id": "DX6XyPUIDOgx"
      },
      "execution_count": null,
      "outputs": []
    },
    {
      "cell_type": "code",
      "source": [
        "#Applying ImageDataGenerator functionality to trainset\n",
        "x_train=train_datagen.flow_from_directory('/content/drive/MyDrive/Forest Fire Dataset',target_size=(128,128),batch_size=32,class_mode='binary')"
      ],
      "metadata": {
        "colab": {
          "base_uri": "https://localhost:8080/"
        },
        "id": "lbLqRZssD0IL",
        "outputId": "b24473e8-f0c1-4b3f-b589-13411db24e15"
      },
      "execution_count": null,
      "outputs": [
        {
          "output_type": "stream",
          "name": "stdout",
          "text": [
            "Found 1903 images belonging to 2 classes.\n"
          ]
        }
      ]
    },
    {
      "cell_type": "code",
      "source": [
        "#Applying ImageDataGenerator functionality to testset\n",
        "x_test=test_datagen.flow_from_directory('/content/drive/MyDrive/Forest Fire Dataset',target_size=(128,128),batch_size=32,class_mode='binary')"
      ],
      "metadata": {
        "colab": {
          "base_uri": "https://localhost:8080/"
        },
        "id": "Vs1o8LXmED8-",
        "outputId": "a1b98ae7-b1e5-42df-f093-4272bf2a3d3c"
      },
      "execution_count": null,
      "outputs": [
        {
          "output_type": "stream",
          "name": "stdout",
          "text": [
            "Found 1903 images belonging to 2 classes.\n"
          ]
        }
      ]
    },
    {
      "cell_type": "code",
      "source": [
        "#import model building libraries\n",
        "\n",
        "#To define Linear initialisation import Sequential\n",
        "from keras.models import Sequential\n",
        "#To add layers import Dense\n",
        "from keras.layers import Dense\n",
        "#To create Convolution kernel import Convolution2D\n",
        "from keras.layers import Convolution2D\n",
        "#import Maxpooling layer\n",
        "from keras.layers import MaxPooling2D\n",
        "#import flatten layer\n",
        "from keras.layers import Flatten\n",
        "import warnings\n",
        "warnings.filterwarnings('ignore')"
      ],
      "metadata": {
        "id": "mKqSI8WSELbh"
      },
      "execution_count": null,
      "outputs": []
    },
    {
      "cell_type": "code",
      "source": [
        "#initializing the model\n",
        "model=Sequential()"
      ],
      "metadata": {
        "id": "NvrzkjfpEQRB"
      },
      "execution_count": null,
      "outputs": []
    },
    {
      "cell_type": "code",
      "source": [
        "#add convolutional layer\n",
        "model.add(Convolution2D(32,(3,3),input_shape=(128,128,3),activation='relu'))\n",
        "#add maxpooling layer\n",
        "model.add(MaxPooling2D(pool_size=(2,2)))\n",
        "#add flatten layer \n",
        "model.add(Flatten())"
      ],
      "metadata": {
        "id": "uHdo6pSlEWiJ"
      },
      "execution_count": null,
      "outputs": []
    },
    {
      "cell_type": "code",
      "source": [
        "#add hidden layer\n",
        "model.add(Dense(150,activation='relu'))\n",
        "#add output layer\n",
        "model.add(Dense(1,activation='sigmoid'))"
      ],
      "metadata": {
        "id": "LIjH2GjbEaxB"
      },
      "execution_count": null,
      "outputs": []
    },
    {
      "cell_type": "code",
      "source": [
        "#configure the learning process\n",
        "model.compile(loss='binary_crossentropy',optimizer=\"adam\",metrics=[\"accuracy\"])"
      ],
      "metadata": {
        "id": "umum6tD8Ed1R"
      },
      "execution_count": null,
      "outputs": []
    },
    {
      "cell_type": "code",
      "source": [
        "#Training the model\n",
        "model.fit_generator(x_train,steps_per_epoch=14,epochs=10,validation_data=x_test,validation_steps=4)"
      ],
      "metadata": {
        "colab": {
          "base_uri": "https://localhost:8080/"
        },
        "id": "AowPGnc0EgUG",
        "outputId": "87465a50-aee8-4ae5-9f9c-96f2b124291b"
      },
      "execution_count": null,
      "outputs": [
        {
          "output_type": "stream",
          "name": "stdout",
          "text": [
            "Epoch 1/10\n",
            "14/14 [==============================] - 125s 9s/step - loss: 1.8303 - accuracy: 0.6942 - val_loss: 0.8162 - val_accuracy: 0.5625\n",
            "Epoch 2/10\n",
            "14/14 [==============================] - 84s 6s/step - loss: 0.7480 - accuracy: 0.7098 - val_loss: 0.5381 - val_accuracy: 0.7578\n",
            "Epoch 3/10\n",
            "14/14 [==============================] - 59s 4s/step - loss: 0.5674 - accuracy: 0.7612 - val_loss: 0.4635 - val_accuracy: 0.8203\n",
            "Epoch 4/10\n",
            "14/14 [==============================] - 43s 3s/step - loss: 0.5568 - accuracy: 0.8036 - val_loss: 0.5385 - val_accuracy: 0.8125\n",
            "Epoch 5/10\n",
            "14/14 [==============================] - 32s 2s/step - loss: 0.5617 - accuracy: 0.7879 - val_loss: 0.4540 - val_accuracy: 0.8359\n",
            "Epoch 6/10\n",
            "14/14 [==============================] - 25s 2s/step - loss: 0.5714 - accuracy: 0.7723 - val_loss: 0.5967 - val_accuracy: 0.7188\n",
            "Epoch 7/10\n",
            "14/14 [==============================] - 20s 1s/step - loss: 0.5346 - accuracy: 0.8103 - val_loss: 0.5203 - val_accuracy: 0.8047\n",
            "Epoch 8/10\n",
            "14/14 [==============================] - 15s 1s/step - loss: 0.5480 - accuracy: 0.7768 - val_loss: 0.4697 - val_accuracy: 0.8516\n",
            "Epoch 9/10\n",
            "14/14 [==============================] - 14s 1s/step - loss: 0.5030 - accuracy: 0.7991 - val_loss: 0.4654 - val_accuracy: 0.8516\n",
            "Epoch 10/10\n",
            "14/14 [==============================] - 13s 883ms/step - loss: 0.5373 - accuracy: 0.7879 - val_loss: 0.5347 - val_accuracy: 0.8359\n"
          ]
        },
        {
          "output_type": "execute_result",
          "data": {
            "text/plain": [
              "<keras.callbacks.History at 0x7febcfe4d710>"
            ]
          },
          "metadata": {},
          "execution_count": 11
        }
      ]
    },
    {
      "cell_type": "code",
      "source": [
        "#import load_model from keras.model\n",
        "from keras.models import load_model\n",
        "#import image class from keras\n",
        "from tensorflow.keras.preprocessing import image #import numpy\n",
        "import numpy as np\n",
        "#import cv2\n",
        "import cv2"
      ],
      "metadata": {
        "id": "_AIppCawolv-"
      },
      "execution_count": null,
      "outputs": []
    }
  ]
}